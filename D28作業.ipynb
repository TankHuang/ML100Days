{
 "cells": [
  {
   "cell_type": "markdown",
   "metadata": {},
   "source": [
    "## 作業:\n",
    "今天學到五種分配，包含，   \n",
    "離散均勻分配( Discrete Uniform Distribution )   \n",
    "伯努利分配( Bernoulli Distribution )   \n",
    "二項分配(Binomial Distribution)  \n",
    "負二項分配(Negative Binomial Distribution)  \n",
    "超幾何分配(Hypergeometric Distribution)   \n",
    "今天我們透過作業中的問題，回想今天的內容吧!  "
   ]
  },
  {
   "cell_type": "markdown",
   "metadata": {},
   "source": [
    "### Q1: 大樂透的頭獎，你必須從49個挑選出 6 個號碼，\n",
    "### 且這六個號碼與頭獎的六個號碼一致，頭獎的機率是屬於哪一種分配?"
   ]
  },
  {
   "cell_type": "code",
   "execution_count": null,
   "metadata": {},
   "outputs": [],
   "source": [
    "# library\n",
    "import matplotlib.pyplot as plt\n",
    "import numpy as np\n",
    "import pandas as pd\n",
    "from scipy import stats\n",
    "import math\n",
    "import statistics"
   ]
  },
  {
   "cell_type": "code",
   "execution_count": null,
   "metadata": {
    "collapsed": true,
    "jupyter": {
     "outputs_hidden": true
    }
   },
   "outputs": [],
   "source": [
    "''''\n",
    "超幾何分配.\n",
    "''''"
   ]
  },
  {
   "cell_type": "markdown",
   "metadata": {},
   "source": [
    "### Q2: 運用範例的 python 程式碼，計算大樂透的中頭獎機率?"
   ]
  },
  {
   "cell_type": "code",
   "execution_count": 2,
   "metadata": {},
   "outputs": [
    {
     "ename": "SyntaxError",
     "evalue": "EOL while scanning string literal (<ipython-input-2-f8f5cbbba08b>, line 4)",
     "output_type": "error",
     "traceback": [
      "\u001b[1;36m  File \u001b[1;32m\"<ipython-input-2-f8f5cbbba08b>\"\u001b[1;36m, line \u001b[1;32m4\u001b[0m\n\u001b[1;33m    ''''\u001b[0m\n\u001b[1;37m        \n^\u001b[0m\n\u001b[1;31mSyntaxError\u001b[0m\u001b[1;31m:\u001b[0m EOL while scanning string literal\n"
     ]
    }
   ],
   "source": [
    "''''\n",
    "你的程式碼\n",
    "記得要 import 套件\n",
    "''''\n",
    "N=49\n",
    "K=6\n",
    "n=6\n",
    "r=6\n",
    "probs = stats.hypergeom.pmf(r, N,K,n)\n",
    "print(probs)"
   ]
  },
  {
   "cell_type": "markdown",
   "metadata": {},
   "source": [
    "### Q3: 你覺得電腦簽注的中獎機率，和人腦簽注相比，哪一個機率高?"
   ]
  },
  {
   "cell_type": "code",
   "execution_count": null,
   "metadata": {
    "collapsed": true,
    "jupyter": {
     "outputs_hidden": true
    }
   },
   "outputs": [],
   "source": [
    "''''\n",
    "你的答案\n",
    "''''"
   ]
  }
 ],
 "metadata": {
  "colab": {
   "name": "Day33.YOLO 細節理解 - 網路輸出的後處理_HW.ipynb",
   "provenance": []
  },
  "kernelspec": {
   "display_name": "Python 3",
   "language": "python",
   "name": "python3"
  },
  "language_info": {
   "codemirror_mode": {
    "name": "ipython",
    "version": 3
   },
   "file_extension": ".py",
   "mimetype": "text/x-python",
   "name": "python",
   "nbconvert_exporter": "python",
   "pygments_lexer": "ipython3",
   "version": "3.8.5"
  }
 },
 "nbformat": 4,
 "nbformat_minor": 4
}
